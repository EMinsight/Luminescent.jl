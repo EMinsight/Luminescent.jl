{
 "cells": [
  {
   "cell_type": "markdown",
   "metadata": {},
   "source": [
    "# Luminescent FDTD\n",
    "## Installation \n",
    "Install Python frontend \n",
    "- `pip install gplugins `\n",
    "Install Julia backend \n",
    "- Install Julia language \n",
    "- Open Julia REPL via `julia` in terminal. Then install packages via  \n",
    "`]add Luminescent, LuminescentVisualizations, UnPack, BSON, DataStructures, StatsBase, Zygote, Jello, AbbreviatedStackTraces, CUDA, Flux, Rsvg, Cairo, FileIO`"
   ]
  },
  {
   "cell_type": "code",
   "execution_count": null,
   "metadata": {},
   "outputs": [],
   "source": [
    "a=1\n",
    "import gdsfactory as gf"
   ]
  }
 ],
 "metadata": {
  "language_info": {
   "name": "python"
  }
 },
 "nbformat": 4,
 "nbformat_minor": 2
}
