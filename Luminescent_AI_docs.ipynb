{
  "cells": [
    {
      "cell_type": "markdown",
      "metadata": {
        "colab_type": "text",
        "id": "view-in-github"
      },
      "source": [
        "<a href=\"https://colab.research.google.com/github/paulxshen/Luminescent.jl/blob/master/Luminescent_AI_docs.ipynb\" target=\"_parent\"><img src=\"https://colab.research.google.com/assets/colab-badge.svg\" alt=\"Open In Colab\"/></a>"
      ]
    },
    {
      "cell_type": "markdown",
      "id": "a25f9c82-f989-4d22-a431-ef79cbf1c80a",
      "metadata": {
        "id": "a25f9c82-f989-4d22-a431-ef79cbf1c80a"
      },
      "source": [
        "# FDTD Luminescent Simulation and Inverse Design\n",
        "\n",
        "v0.4-beta  \n",
        "2025/01\n",
        "Paul Shen <pxshen@alumni.stanford.edu>  \n",
        "<!-- **Undergoing maintenance. Check back in 2025 :D** -->\n",
        "Open https://colab.research.google.com/github/paulxshen/Luminescent.jl/blob/master/Luminescent_AI_docs.ipynb if you can't see ouput figures or table of contents."
      ]
    },
    {
      "cell_type": "markdown",
      "id": "b21851d9-82d7-4d88-b6f8-ba28c78d731b",
      "metadata": {
        "id": "b21851d9-82d7-4d88-b6f8-ba28c78d731b"
      },
      "source": [
        "# Synopsis\n",
        "\n",
        "[Luminescent AI](https://luminescentai.com/) empowers photonic and RF engineers to simulate or inverse design complex electromagnetic components in just a few lines of code! We created an automatic differentiation (AD) and GPU compatible FDTD engine and geometry generator for photonic integrated circuits (PIC) and metasurfaces, as well (in the future) RF microstrip circuits and patch antennas. Experimental release 🥼. Expect bugs 🐛🐞\n",
        "\n",
        "[Follow us](https://www.linkedin.com/company/luminescent-ai/about) for updates! Star us [GitHub](https://github.com/paulxshen/Luminescent.jl) if you like our work. We respond to issues within a day  "
      ]
    },
    {
      "cell_type": "code",
      "execution_count": null,
      "id": "94918b9d-e6b1-4e80-9d0d-502a0fd119ff",
      "metadata": {
        "colab": {
          "base_uri": "https://localhost:8080/",
          "height": 337
        },
        "id": "94918b9d-e6b1-4e80-9d0d-502a0fd119ff",
        "outputId": "031dc73a-fc86-4a8f-bc4e-854f20a61644"
      },
      "outputs": [
        {
          "data": {
            "text/html": [
              "<iframe width=\"560\" height=\"315\" src=\"https://www.youtube.com/embed/n_O1r6wggLU?si=x2tKzw4hzrIz6h7C\" title=\"YouTube video player\" frameborder=\"0\" allow=\"accelerometer; autoplay; clipboard-write; encrypted-media; gyroscope; picture-in-picture; web-share\" referrerpolicy=\"strict-origin-when-cross-origin\" allowfullscreen></iframe>\n"
            ],
            "text/plain": [
              "<IPython.core.display.HTML object>"
            ]
          },
          "metadata": {},
          "output_type": "display_data"
        }
      ],
      "source": [
        "%%HTML\n",
        "<iframe width=\"560\" height=\"315\" src=\"https://www.youtube.com/embed/n_O1r6wggLU?si=x2tKzw4hzrIz6h7C\" title=\"YouTube video player\" frameborder=\"0\" allow=\"accelerometer; autoplay; clipboard-write; encrypted-media; gyroscope; picture-in-picture; web-share\" referrerpolicy=\"strict-origin-when-cross-origin\" allowfullscreen></iframe>"
      ]
    },
    {
      "cell_type": "markdown",
      "id": "6662e768-1847-4cc7-9a85-29be3939aae1",
      "metadata": {
        "id": "6662e768-1847-4cc7-9a85-29be3939aae1"
      },
      "source": [
        "# Features and conventions"
      ]
    },
    {
      "cell_type": "markdown",
      "id": "a01ca52d-e06e-47bf-aaad-f6e8359bd486",
      "metadata": {
        "id": "a01ca52d-e06e-47bf-aaad-f6e8359bd486"
      },
      "source": [
        "We do simulation and generative inverse design in 3D or 2.5D, with multiple wavelengths and modes, and on CPU or GPU. However, GPU acceleration is guaranteed only for simulation and not inverse design because the later requires significant VRAM.\n"
      ]
    },
    {
      "cell_type": "markdown",
      "id": "e5603c66",
      "metadata": {
        "id": "e5603c66"
      },
      "source": [
        "## Technical features of FDTD backend\n",
        "- Automatic differentiation (AD) compatible for adjoint optimization\n",
        "- Optional GPU acceleration\n",
        "- Length scale controlled geometry optimizer\n",
        "- Nonlinear and anisotropic materials\n",
        "- Tensor subpixel smoothing for accuracy\n",
        "- Adaptive graded grid and Float16 support for speed\n",
        "- PML, periodic, PEC, PMC boundaries\n",
        "- Modal sources, plane waves, Gaussian beams\n",
        "- Modal monitors, DFT fields"
      ]
    },
    {
      "cell_type": "markdown",
      "id": "9e00c5f7-dceb-43a7-9acb-5a86758c3732",
      "metadata": {
        "id": "9e00c5f7-dceb-43a7-9acb-5a86758c3732"
      },
      "source": [
        "## Geometry layout\n",
        "We layout using Python  gdsfactory which is integrated with KLayout. Can also import .gds into gdsfactory . Internally, gdsfactory component and layer stack let generate a 3D mesh which is clipped vertically some depths above and below `core_layer`. By default,\n",
        "we apply a SOI 220nm node (Si, SiO, SiN and Ge layers) implemented by [`gdsfactory.generic_tech`](https://gdsfactory.github.io/gdsfactory/notebooks/03_layer_stack.html#layerstack) layer stack.\n"
      ]
    },
    {
      "cell_type": "markdown",
      "id": "66a94ddf",
      "metadata": {
        "id": "66a94ddf"
      },
      "source": [
        "## Materials\n",
        "We're changing to Meep's materials library. We map gdsfactory layerstack layers to Meep materials via the layer's material property while taking into account common name variants (eg \"si\" or \"Si\" mapping to \"cSi\").\n",
        "\n",
        "Dispersive, anisotropic, and nonlinear materials are by default not simulated but can be implemented upon request."
      ]
    },
    {
      "cell_type": "markdown",
      "id": "ba01adc4-f654-4f79-aaba-ea155653fc6c",
      "metadata": {
        "id": "ba01adc4-f654-4f79-aaba-ea155653fc6c"
      },
      "source": [
        "## Margins and ports\n",
        "We automatically extend waveguides and adds margins during simulation but port locations remain fixed thus not affecting sparams. Port numbers map to gdsfactory component ports. Specify port pairs as eg `2,1` which is equivalent to `o2@0,o1@0` meaning optical_port_number@mode_number."
      ]
    },
    {
      "cell_type": "markdown",
      "id": "be9a5dc3-2b6b-4af2-bd62-b00492794e14",
      "metadata": {
        "id": "be9a5dc3-2b6b-4af2-bd62-b00492794e14"
      },
      "source": [
        "## Reciprocity and symmetry\n",
        "Usually only a subset of sparams is needed because of symmetry or reciprocity, specified as `keys` in sparams study or inferred automatically from inverse design study. We do a run for each port excitation. If `keys` is omitted in sparams study, all sparams will be calculated requiring more runs."
      ]
    },
    {
      "cell_type": "markdown",
      "id": "d86e95f2-1c11-497a-9c1e-a35e59e6e5d3",
      "metadata": {
        "id": "d86e95f2-1c11-497a-9c1e-a35e59e6e5d3"
      },
      "source": [
        "## File workflow\n",
        "Each simulation or design optimization run is saved to a folder path. Can access saved runs via `load_res`, `finetune`"
      ]
    },
    {
      "cell_type": "markdown",
      "id": "156acdd5",
      "metadata": {
        "id": "156acdd5"
      },
      "source": [
        "# Performance\n",
        "Setup: Intel Xeon CPU, Nvidia T4 GPU on Google Colab."
      ]
    },
    {
      "cell_type": "markdown",
      "id": "780cf75e",
      "metadata": {
        "id": "780cf75e"
      },
      "source": [
        "## GPU vs CPU\n",
        "GPU is 30x faster than CPU!! Currently, GPU works only for simulation. We're still working on GPU support for inverse design."
      ]
    },
    {
      "cell_type": "markdown",
      "id": "5fdd9276",
      "metadata": {
        "id": "5fdd9276"
      },
      "source": [
        "## Float32 vs Float16\n",
        "Float32 is default and should be used in all simulations for accuracy. We observe discrepancies >0.05dB when using Float16. However Float16 can be tried in inverse design to conserve memory by 2x.\n",
        "\n",
        "Most GPUs and some newer CPUs support Float16 in hardware. Most consumer Intel chips can't run Float16 natively resulting in very slow emulation. We observe a small 1.3x speedup on CPU and no difference on GPU for Float16 vs Float32.  You're welcome to experiment."
      ]
    },
    {
      "cell_type": "markdown",
      "id": "e4b9152b",
      "metadata": {
        "id": "e4b9152b"
      },
      "source": [
        "# Installation\n"
      ]
    },
    {
      "cell_type": "markdown",
      "id": "bf4d4ae4",
      "metadata": {
        "id": "bf4d4ae4"
      },
      "source": [
        "## Frontend\n",
        "If on Windows, Install Anaconda distribution of Python and use  Anaconda Prompt for pip installs.  \n"
      ]
    },
    {
      "cell_type": "code",
      "execution_count": 1,
      "id": "3f34c9ea",
      "metadata": {
        "colab": {
          "base_uri": "https://localhost:8080/"
        },
        "id": "3f34c9ea",
        "outputId": "e231b4db-305c-4971-e12d-daf119f88a74"
      },
      "outputs": [
        {
          "data": {
            "text/plain": []
          },
          "execution_count": 1,
          "metadata": {},
          "output_type": "execute_result"
        }
      ],
      "source": [
        "%%shell\n",
        "pip install -U luminescent &> /dev/null"
      ]
    },
    {
      "cell_type": "markdown",
      "id": "f6a24645",
      "metadata": {
        "id": "f6a24645"
      },
      "source": [
        "## Backend\n",
        "Install latest Julia. If on Windows, use [julialang.org](https://julialang.org). If on Linux, can do:"
      ]
    },
    {
      "cell_type": "code",
      "execution_count": 2,
      "id": "0e32e02d",
      "metadata": {
        "colab": {
          "base_uri": "https://localhost:8080/"
        },
        "id": "0e32e02d",
        "outputId": "7159b05f-769c-4db7-923e-fba4455d779c"
      },
      "outputs": [
        {
          "name": "stdout",
          "output_type": "stream",
          "text": [
            "2025-01-05 03:56:49 URL:https://storage.googleapis.com/julialang2/bin/linux/x64/1.11/julia-1.11.2-linux-x86_64.tar.gz [285843560/285843560] -> \"/tmp/julia.tar.gz\" [1]\n"
          ]
        },
        {
          "data": {
            "text/plain": []
          },
          "execution_count": 2,
          "metadata": {},
          "output_type": "execute_result"
        }
      ],
      "source": [
        "%%shell\n",
        "URL=\"https://julialang-s3.julialang.org/bin/linux/x64/1.11/julia-1.11.2-linux-x86_64.tar.gz\"\n",
        "wget -nv $URL -O /tmp/julia.tar.gz # -nv means \"not verbose\"\n",
        "tar -x -f /tmp/julia.tar.gz -C /usr/local --strip-components 1\n",
        "rm /tmp/julia.tar.gz"
      ]
    },
    {
      "cell_type": "markdown",
      "id": "3d5f8003",
      "metadata": {
        "id": "3d5f8003"
      },
      "source": [
        "Install FDTD (20min)"
      ]
    },
    {
      "cell_type": "code",
      "execution_count": 3,
      "id": "ea74cebb",
      "metadata": {
        "colab": {
          "base_uri": "https://localhost:8080/"
        },
        "id": "ea74cebb",
        "outputId": "748841a9-9f79-4992-cf03-d0343baba227"
      },
      "outputs": [
        {
          "data": {
            "text/plain": []
          },
          "execution_count": 3,
          "metadata": {},
          "output_type": "execute_result"
        }
      ],
      "source": [
        "%%shell\n",
        "julia -e 'using Pkg; pkg\"add CUDA, https://github.com/paulxshen/Luminescent.jl;up\"' &> /dev/null"
      ]
    },
    {
      "cell_type": "markdown",
      "id": "3f6382a9",
      "metadata": {
        "id": "3f6382a9"
      },
      "source": [
        "## Limitations"
      ]
    },
    {
      "cell_type": "markdown",
      "id": "91a47d8c",
      "metadata": {
        "id": "91a47d8c"
      },
      "source": [
        "### Compilation lag\n",
        "We release source code but not precompiled binaries. Each Python run starts a new Julia session that JIT compiles simulation code. This takes 4min for simulation and 8min for inverse design. The subsequent simulation itself may only take seconds (eg GPU simulations in this notebook).\n",
        "\n",
        "Building standalone binaries for Julia applications is nontrivial. Please request binaries from us if needed."
      ]
    },
    {
      "cell_type": "markdown",
      "id": "186e83c5",
      "metadata": {
        "id": "186e83c5"
      },
      "source": [
        "### Non Nvidia GPUs\n",
        "NVidia GPUs work out of the box. Julia also supports AMD, Intel, and Apple Silicon GPUs but we haven't tested them. Please contact us if you'd like support for these GPUs."
      ]
    },
    {
      "cell_type": "markdown",
      "id": "7c65c32a-55d8-42f1-99da-4167e330e216",
      "metadata": {
        "id": "7c65c32a-55d8-42f1-99da-4167e330e216"
      },
      "source": [
        "# Tutorials: PIC S-parameters simulation"
      ]
    },
    {
      "cell_type": "markdown",
      "id": "0861be7f-0c9e-4022-ae76-1e176748531f",
      "metadata": {
        "id": "0861be7f-0c9e-4022-ae76-1e176748531f"
      },
      "source": [
        "## waveguide bend"
      ]
    },
    {
      "cell_type": "markdown",
      "id": "c0140f63-e249-49eb-b465-e16c05b6eab9",
      "metadata": {
        "id": "c0140f63-e249-49eb-b465-e16c05b6eab9"
      },
      "source": [
        "### 5um inner radius"
      ]
    },
    {
      "cell_type": "markdown",
      "id": "a3ec9120-3bc6-4226-9945-ebb35363d830",
      "metadata": {
        "id": "a3ec9120-3bc6-4226-9945-ebb35363d830"
      },
      "source": [
        "#### Single wavelength 3D\n",
        "We characterize insertion loss (IL) of waveguide bends wrt radius. We first set R=1um, significantly below the often cited minimum radius of 5um in silicon photonics. First, we use `gdsfactory` to make the bend (note `gdsfactory` uses inner radius). Next, we simulates and saves results, which are retrieved and visualized by `load_res`.\n",
        "\n",
        "`nres` is the maximum resolution - the number of points per wavelength in free space. The grid is adaptive so border regions actually use a lower resolution for speed. Remember FDTD scales as O(n^4)! `nres` has a huge effect on simulation time! Finally, Because of reciprocity we only need S or T param keys of \"2,1\".\n"
      ]
    },
    {
      "cell_type": "code",
      "execution_count": null,
      "id": "1c1f7b89-e584-486b-adc5-a70195d7912f",
      "metadata": {
        "colab": {
          "base_uri": "https://localhost:8080/"
        },
        "id": "1c1f7b89-e584-486b-adc5-a70195d7912f",
        "outputId": "fec60f08-58b4-49ce-a89a-9b861e2c03a5"
      },
      "outputs": [],
      "source": [
        "import luminescent as lumi\n",
        "import gdsfactory as gf\n",
        "import numpy as np\n",
        "import os\n",
        "\n",
        "radius = 1.0\n",
        "c = gf.components.bend_circular(radius=radius,allow_min_radius_violation=True)\n",
        "# c.plot()\n",
        "\n",
        "path = os.path.join(\"runs\",f\"bend_R{radius}\")\n",
        "wavelengths = 1.55\n",
        "keys=[\"2,1\"] # same as keys=[\"o2@0,o1@0\"]\n",
        "nres=30\n",
        "gpu=\"CUDA\" # or None\n",
        "\n",
        "lumi.make_pic_sim_prob(path, c, wavelengths=wavelengths, nres=nres, keys=keys, gpu=gpu)\n",
        "lumi.solve(path)"
      ]
    },
    {
      "cell_type": "code",
      "execution_count": null,
      "id": "7a421f1b",
      "metadata": {
        "colab": {
          "base_uri": "https://localhost:8080/",
          "height": 1000
        },
        "id": "7a421f1b",
        "outputId": "3e8973a3-cd4e-4117-bcab-fd24e31cb469"
      },
      "outputs": [],
      "source": [
        "path = os.path.join(\"runs\",f\"bend_R1\")\n",
        "sol = lumi.load_res(path)\n"
      ]
    },
    {
      "cell_type": "markdown",
      "id": "13c566ae-b363-4fc6-ad94-87451c767185",
      "metadata": {
        "id": "13c566ae-b363-4fc6-ad94-87451c767185"
      },
      "source": [
        "Loss at 0.15dB"
      ]
    },
    {
      "cell_type": "markdown",
      "id": "50c71402-9f7b-4e04-a65f-1777b4adcefd",
      "metadata": {
        "id": "50c71402-9f7b-4e04-a65f-1777b4adcefd"
      },
      "source": [
        "#### Wavelength range 3D\n",
        "We can repeat the simulation with multiple wavelengths in a range. Closely spaced wavelengths may require longer integration periods to resolve.\n"
      ]
    },
    {
      "cell_type": "code",
      "execution_count": null,
      "id": "6266fae4-5f16-42e6-b0cc-0e3b8b523b93",
      "metadata": {
        "id": "6266fae4-5f16-42e6-b0cc-0e3b8b523b93"
      },
      "outputs": [],
      "source": [
        "path = os.path.join(\"runs\",f\"bend_R{radius}_multi\")\n",
        "wavelengths = np.linspace(1.5, 1.6, 5)  # number or list or array\n",
        "\n",
        "lumi.make_pic_sim_prob(path,c,  wavelengths=wavelengths, nres=nres, keys=keys, gpu=gpu)\n",
        "lumi.solve(path)"
      ]
    },
    {
      "cell_type": "code",
      "execution_count": null,
      "id": "030cf428",
      "metadata": {
        "id": "030cf428"
      },
      "outputs": [],
      "source": [
        "path = os.path.join(\"runs\",f\"bend_R1_multi\")\n",
        "sol = lumi.load_res(path)"
      ]
    },
    {
      "cell_type": "markdown",
      "id": "ea88e49d-4ce8-4453-9c2b-5ae875629ee7",
      "metadata": {
        "id": "ea88e49d-4ce8-4453-9c2b-5ae875629ee7"
      },
      "source": [
        "#### Quickie 2.5D approximation\n",
        "Set `approx_2D_mode=\"TE\"` to do a 2.5D simulation using (Ex, Ey, Hz) on a 2D plane with an \"effective\" refractive index integrated from a vertical modal profile. This is significantly faster but not accurate. Nevertheless it's a good way of exploring various geometries."
      ]
    },
    {
      "cell_type": "markdown",
      "id": "c0db7f65-4772-4bb6-bdcf-790bb820f8ad",
      "metadata": {
        "id": "c0db7f65-4772-4bb6-bdcf-790bb820f8ad"
      },
      "source": [
        "### 5um inner radius (insufficient RAM on free tier Google Colab)\n",
        "Let's try a normal R=5um bend. "
      ]
    },
    {
      "cell_type": "code",
      "execution_count": null,
      "id": "9d2e9410-ef61-4bc1-9e8d-8db6771978c1",
      "metadata": {
        "colab": {
          "base_uri": "https://localhost:8080/"
        },
        "id": "9d2e9410-ef61-4bc1-9e8d-8db6771978c1",
        "outputId": "7340271f-a6e5-4b1a-f005-71ceb3dc9daa"
      },
      "outputs": [],
      "source": [
        "radius = 5\n",
        "path = os.path.join(\"runs\",f\"bend_R{radius}\")\n",
        "c = gf.components.bend_circular(radius=radius, allow_min_radius_violation=True)\n",
        "wavelengths = 1.55\n",
        "\n",
        "lumi.make_pic_sim_prob(path,c,  wavelengths=wavelengths, nres=nres, keys=keys,gpu=gpu)\n",
        "lumi.solve(path)"
      ]
    },
    {
      "cell_type": "code",
      "execution_count": null,
      "id": "0192e7f5",
      "metadata": {
        "colab": {
          "base_uri": "https://localhost:8080/",
          "height": 1000
        },
        "id": "0192e7f5",
        "outputId": "1dadb2a5-c050-4dac-86d3-208e4c4e0da6"
      },
      "outputs": [],
      "source": [
        "path = os.path.join(\"runs\",f\"bend_R5\")\n",
        "sol = lumi.load_res(path)\n"
      ]
    },
    {
      "cell_type": "markdown",
      "id": "1798648a-3c40-47ed-b310-e23f846ef789",
      "metadata": {
        "id": "1798648a-3c40-47ed-b310-e23f846ef789"
      },
      "source": [
        "Loss is 0.02dB, similar to [Tidy3D example](https://www.flexcompute.com/tidy3d/examples/notebooks/EulerWaveguideBend/)"
      ]
    },
    {
      "cell_type": "markdown",
      "id": "37771b0d-2f35-4ed5-aee6-3fe3efe75496",
      "metadata": {
        "id": "37771b0d-2f35-4ed5-aee6-3fe3efe75496"
      },
      "source": [
        "## customizing materials, layers, and modes"
      ]
    },
    {
      "cell_type": "code",
      "execution_count": null,
      "id": "4c41c1f0-aa3b-44d5-8b1c-bcebc3e6cf35",
      "metadata": {
        "id": "4c41c1f0-aa3b-44d5-8b1c-bcebc3e6cf35"
      },
      "outputs": [],
      "source": []
    },
    {
      "cell_type": "markdown",
      "id": "4d829e0b-80b6-434f-967b-0267db421a0b",
      "metadata": {
        "id": "4d829e0b-80b6-434f-967b-0267db421a0b"
      },
      "source": [
        "#### Defaults"
      ]
    },
    {
      "cell_type": "code",
      "execution_count": null,
      "id": "2a7dadd8-9f21-4bfd-9441-6b7d24946b96",
      "metadata": {
        "id": "2a7dadd8-9f21-4bfd-9441-6b7d24946b96"
      },
      "outputs": [],
      "source": [
        "# import luminescent as lumi\n",
        "# from gdsfactory.generic_tech import LAYER,LAYER_STACK\n",
        "# import gdsfactory as gf\n",
        "# import pprint as pp\n",
        "\n",
        "# core_layer=LAYER.WG\n",
        "# bbox_layer=LAYER.WAFER\n",
        "# layer_stack=LAYER_STACK\n",
        "\n",
        "# N=3\n",
        "# dtype=\"float32\"\n",
        "# gpu=None"
      ]
    },
    {
      "cell_type": "markdown",
      "id": "4d6b9de0-c1b9-430d-bca7-8091604d2d35",
      "metadata": {
        "id": "4d6b9de0-c1b9-430d-bca7-8091604d2d35"
      },
      "source": [
        "#### TE1"
      ]
    },
    {
      "cell_type": "code",
      "execution_count": null,
      "id": "ebe5b68e-869a-40a8-970a-2462e39a3cea",
      "metadata": {
        "id": "ebe5b68e-869a-40a8-970a-2462e39a3cea"
      },
      "outputs": [],
      "source": [
        "# c = gf.components.straight(length=1.0,width=0.5,layer=core_layer)\n",
        "# wavelengths=1.55\n",
        "# nres=30\n",
        "\n",
        "# path=\"TE1\"\n",
        "# keys=[\"o2@1,o1@1\"]\n",
        "# lumi.make_pic_sim_prob(path,c, wavelengths=wavelengths, keys=keys,nres=nres, dtype=dtype, gpu=gpu)\n",
        "# lumi.solve(path)\n",
        "# lumi.load_res(path)"
      ]
    },
    {
      "cell_type": "markdown",
      "id": "9964bac3-3033-4323-84f4-5d263216080e",
      "metadata": {
        "id": "9964bac3-3033-4323-84f4-5d263216080e"
      },
      "source": [
        "### Si rib waveguide\n",
        "only need to modify bbox_layer to include 90nm bottom silicon slab"
      ]
    },
    {
      "cell_type": "code",
      "execution_count": null,
      "id": "43ddd8ca-e448-4de9-9bb2-a513da684f3a",
      "metadata": {
        "id": "43ddd8ca-e448-4de9-9bb2-a513da684f3a"
      },
      "outputs": [],
      "source": [
        "# path=\"rib\"\n",
        "# keys=[\"2,1\"]\n",
        "# bbox_layer=[LAYER.WAFER,LAYER.SLAB90]\n",
        "# lumi.make_pic_sim_prob(path,c, wavelengths=wavelengths, keys=keys,nres=nres,  dtype=dtype, gpu=gpu,\n",
        "#                    bbox_layer=bbox_layer)\n",
        "# lumi.solve(path)\n",
        "# sol = lumi.load_res(path)"
      ]
    },
    {
      "cell_type": "markdown",
      "id": "4f0074d2-6ac4-4449-ab7d-cc52757378eb",
      "metadata": {
        "id": "4f0074d2-6ac4-4449-ab7d-cc52757378eb"
      },
      "source": [
        "### SiN strip waveguide"
      ]
    },
    {
      "cell_type": "code",
      "execution_count": null,
      "id": "01a40efb-966c-405a-93e6-9e500031ef84",
      "metadata": {
        "id": "01a40efb-966c-405a-93e6-9e500031ef84"
      },
      "outputs": [],
      "source": [
        "# path=\"SiN\"\n",
        "# core_layer=LAYER.WGN\n",
        "# c = gf.components.straight(length=2.0, width=1.0, layer=core_layer)\n",
        "\n",
        "# lumi.make_pic_sim_prob(path,c, wavelengths=wavelengths, keys=keys,nres=nres, dtype=dtype, gpu=gpu,\n",
        "#                       core_layer=core_layer)\n",
        "# lumi.solve(path)\n",
        "# sol = lumi.load_res(path)"
      ]
    },
    {
      "cell_type": "markdown",
      "id": "61f06d88-d0f2-426f-9ca5-2eec996df8e3",
      "metadata": {
        "id": "61f06d88-d0f2-426f-9ca5-2eec996df8e3"
      },
      "source": [
        "# Tutorials: PIC generative inverse design\n",
        "We introduce GCells (generative cells), a natural evolution of PCells (parametric cells) in semiconductor design . Given a set of inverse design objectives, a GCell will generate optimal geometry using adjoint optimization while ensuring manufacturability by enforcing minimum feature lengths.\n",
        "\n",
        "In examples below, `mimo` (multi in multi out) is just a gdsfactory component with configurable waveguide ports, simple slab as pre-optimization geometry, and overlying rectangular design regions. Dimensions `l` along x and `w` along y. Ports are numbered incrementally: west (SW->NW) -> east (SE->NE) -> south (SW->SE) -> north (NW->NE). By default, they're spaced equally on a side. Example: `west=1, east=2` places port 1 on west, ports 2 & 3 on east. But can also individually specify their locations and widths. Example : `west=[1.0, 2.5], wwg_west=[0.5, 0.4]`.\n",
        "\n",
        "Optimization `targets` is a dictionary organized wrt target type & wavelength. Types include T-params (`tparams`, most common), phase difference (`phasediff`), S-params (`sparams`). Multiple types & wavelengths are possible & often necessary . Loss for each type is scaled automatically to vary from 0 to 1 usually . For example , `tparams` loss of 0.5 roughly means 50% of power going to wrong places.\n",
        "\n",
        "`lvoid` is minimum length scale for voids. No void features smaller than it (currently this isn't exact - contact us for a more precise algorithm). Similarly for `lsolid`.\n",
        "\n",
        "Setting `approx_2D_mode=\"TE\"` (or \"TM\") optimizes in 2.5D which serves as a fast initialization for 3D optimization. Examples done at low resolution and lax convergence in 2.5D on CPU. For accuracy, the result must be finetuned in 3D at finer resolution, a feature that can be requested from Luminescent AI .\n"
      ]
    },
    {
      "cell_type": "markdown",
      "id": "25ef5a6b-0ba2-4356-be57-c6e6b685bc84",
      "metadata": {
        "id": "25ef5a6b-0ba2-4356-be57-c6e6b685bc84"
      },
      "source": [
        "## Generative cells PDK for passive devices\n"
      ]
    },
    {
      "cell_type": "markdown",
      "id": "b5be5b14",
      "metadata": {
        "id": "b5be5b14"
      },
      "source": [
        "### wavelength domain demultiplexer"
      ]
    },
    {
      "cell_type": "markdown",
      "id": "93085ada",
      "metadata": {
        "id": "93085ada"
      },
      "source": [
        "We inverse design a 1x2 wavelength demultiplexer separating 1550nm and 1150nm signals. All we need to do is specify the wavelength dependent Tparams targets."
      ]
    },
    {
      "cell_type": "code",
      "execution_count": null,
      "id": "ccf27d90",
      "metadata": {
        "id": "ccf27d90"
      },
      "outputs": [],
      "source": [
        "# RAM: 20G\n",
        "import os\n",
        "import luminescent as lumi\n",
        "\n",
        "path = os.path.join(\"runs\", \"demux\")\n",
        "c = lumi.mimo(west=1, east=2, l=4.0, w=4.0, wwg=.5,taper=0.05)\n",
        "targets = {\"tparams\": {\n",
        "    1.55: {\"2,1\": 1.0},\n",
        "    1.00: {\"3,1\": 1.0},\n",
        "}}\n",
        "\n",
        "lumi.make_pic_inv_prob(\n",
        "    path, c, targets,\n",
        "    lvoid=0.15, lsolid=0.15, nres=15,\n",
        "    approx_2D_mode=\"TE\",stoploss=.1, iters=80,dtype=\"float16\")\n",
        "lumi.solve(path)"
      ]
    },
    {
      "cell_type": "markdown",
      "id": "fb40717a",
      "metadata": {
        "id": "fb40717a"
      },
      "source": []
    },
    {
      "cell_type": "markdown",
      "id": "b1d94284-9892-406a-962a-63b9bda51883",
      "metadata": {
        "id": "b1d94284-9892-406a-962a-63b9bda51883"
      },
      "source": [
        "Can optionally optimize more using `finetune`"
      ]
    },
    {
      "cell_type": "code",
      "execution_count": 15,
      "id": "f585b2c3-8c7d-42b6-b83b-bfa57dac8433",
      "metadata": {
        "id": "f585b2c3-8c7d-42b6-b83b-bfa57dac8433"
      },
      "outputs": [],
      "source": [
        "# lumi.finetune(path,iters=40)"
      ]
    },
    {
      "cell_type": "markdown",
      "id": "8b4fbada-59e8-4dc9-8150-d241436a17ad",
      "metadata": {
        "id": "8b4fbada-59e8-4dc9-8150-d241436a17ad"
      },
      "source": [
        "Lets see simulation fields and optimized geometry. Note the lax convergence criteria (`stoploss=.05`) means the solution isn't perfect."
      ]
    },
    {
      "cell_type": "code",
      "execution_count": 16,
      "id": "332fe108-3f4d-422c-8007-a0bd034b38e2",
      "metadata": {
        "colab": {
          "base_uri": "https://localhost:8080/",
          "height": 297
        },
        "id": "332fe108-3f4d-422c-8007-a0bd034b38e2",
        "outputId": "a7090317-4494-41f4-ec2f-b45b61b506d8"
      },
      "outputs": [
        {
          "name": "stdout",
          "output_type": "stream",
          "text": [
            "loading solution from /content/runs/demux\n"
          ]
        },
        {
          "ename": "FileNotFoundError",
          "evalue": "[Errno 2] No such file or directory: '/content/runs/demux/solution.json'",
          "output_type": "error",
          "traceback": [
            "\u001b[0;31m---------------------------------------------------------------------------\u001b[0m",
            "\u001b[0;31mFileNotFoundError\u001b[0m                         Traceback (most recent call last)",
            "\u001b[0;32m<ipython-input-16-c8fe88a35614>\u001b[0m in \u001b[0;36m<cell line: 2>\u001b[0;34m()\u001b[0m\n\u001b[1;32m      1\u001b[0m \u001b[0mpath\u001b[0m \u001b[0;34m=\u001b[0m \u001b[0mos\u001b[0m\u001b[0;34m.\u001b[0m\u001b[0mpath\u001b[0m\u001b[0;34m.\u001b[0m\u001b[0mjoin\u001b[0m\u001b[0;34m(\u001b[0m\u001b[0;34m\"runs\"\u001b[0m\u001b[0;34m,\u001b[0m \u001b[0;34m\"demux\"\u001b[0m\u001b[0;34m)\u001b[0m\u001b[0;34m\u001b[0m\u001b[0;34m\u001b[0m\u001b[0m\n\u001b[0;32m----> 2\u001b[0;31m \u001b[0msol\u001b[0m \u001b[0;34m=\u001b[0m \u001b[0mlumi\u001b[0m\u001b[0;34m.\u001b[0m\u001b[0mload_res\u001b[0m\u001b[0;34m(\u001b[0m\u001b[0mpath\u001b[0m\u001b[0;34m)\u001b[0m\u001b[0;34m\u001b[0m\u001b[0;34m\u001b[0m\u001b[0m\n\u001b[0m",
            "\u001b[0;32m/usr/local/lib/python3.10/dist-packages/luminescent/sol.py\u001b[0m in \u001b[0;36mload_res\u001b[0;34m(path, show)\u001b[0m\n\u001b[1;32m     97\u001b[0m     \u001b[0mp\u001b[0m \u001b[0;34m=\u001b[0m \u001b[0mos\u001b[0m\u001b[0;34m.\u001b[0m\u001b[0mpath\u001b[0m\u001b[0;34m.\u001b[0m\u001b[0mjoin\u001b[0m\u001b[0;34m(\u001b[0m\u001b[0mpath\u001b[0m\u001b[0;34m,\u001b[0m \u001b[0;34m\"solution.json\"\u001b[0m\u001b[0;34m)\u001b[0m\u001b[0;34m\u001b[0m\u001b[0;34m\u001b[0m\u001b[0m\n\u001b[1;32m     98\u001b[0m     \u001b[0;31m# sol = json.loads(p, \"rb\").read())[\"sol\"]\u001b[0m\u001b[0;34m\u001b[0m\u001b[0;34m\u001b[0m\u001b[0m\n\u001b[0;32m---> 99\u001b[0;31m     \u001b[0msol\u001b[0m \u001b[0;34m=\u001b[0m \u001b[0mjson\u001b[0m\u001b[0;34m.\u001b[0m\u001b[0mloads\u001b[0m\u001b[0;34m(\u001b[0m\u001b[0mopen\u001b[0m\u001b[0;34m(\u001b[0m\u001b[0mp\u001b[0m\u001b[0;34m)\u001b[0m\u001b[0;34m.\u001b[0m\u001b[0mread\u001b[0m\u001b[0;34m(\u001b[0m\u001b[0;34m)\u001b[0m\u001b[0;34m)\u001b[0m\u001b[0;34m\u001b[0m\u001b[0;34m\u001b[0m\u001b[0m\n\u001b[0m\u001b[1;32m    100\u001b[0m     \u001b[0msol\u001b[0m\u001b[0;34m[\u001b[0m\u001b[0;34m\"S\"\u001b[0m\u001b[0;34m]\u001b[0m \u001b[0;34m=\u001b[0m \u001b[0mload_sparams\u001b[0m\u001b[0;34m(\u001b[0m\u001b[0msol\u001b[0m\u001b[0;34m[\u001b[0m\u001b[0;34m\"S\"\u001b[0m\u001b[0;34m]\u001b[0m\u001b[0;34m)\u001b[0m\u001b[0;34m\u001b[0m\u001b[0;34m\u001b[0m\u001b[0m\n\u001b[1;32m    101\u001b[0m     \u001b[0msol\u001b[0m\u001b[0;34m[\u001b[0m\u001b[0;34m\"component\"\u001b[0m\u001b[0;34m]\u001b[0m \u001b[0;34m=\u001b[0m \u001b[0mgf\u001b[0m\u001b[0;34m.\u001b[0m\u001b[0mimport_gds\u001b[0m\u001b[0;34m(\u001b[0m\u001b[0mos\u001b[0m\u001b[0;34m.\u001b[0m\u001b[0mpath\u001b[0m\u001b[0;34m.\u001b[0m\u001b[0mjoin\u001b[0m\u001b[0;34m(\u001b[0m\u001b[0mpath\u001b[0m\u001b[0;34m,\u001b[0m \u001b[0;34m\"component.gds\"\u001b[0m\u001b[0;34m)\u001b[0m\u001b[0;34m)\u001b[0m\u001b[0;34m\u001b[0m\u001b[0;34m\u001b[0m\u001b[0m\n",
            "\u001b[0;31mFileNotFoundError\u001b[0m: [Errno 2] No such file or directory: '/content/runs/demux/solution.json'"
          ]
        }
      ],
      "source": [
        "path = os.path.join(\"runs\", \"demux\")\n",
        "sol = lumi.load_res(path)"
      ]
    },
    {
      "cell_type": "markdown",
      "id": "190efaf0-1cbe-479e-b47c-c0b1bf4fecb0",
      "metadata": {
        "id": "190efaf0-1cbe-479e-b47c-c0b1bf4fecb0"
      },
      "source": [
        "### 1x2 splitter MMI\n",
        "1.55um wavelength 1x2 splitter. We set symmetry about y so only need to specify T21=.5 as optimization target. Data saved to `path` folder inside working directory. We start iteratiions of adjoint optimization."
      ]
    },
    {
      "cell_type": "code",
      "execution_count": null,
      "id": "b95e430a-51fd-4019-8f5f-9d2b2e1a2548",
      "metadata": {
        "id": "b95e430a-51fd-4019-8f5f-9d2b2e1a2548"
      },
      "outputs": [],
      "source": [
        "import os\n",
        "import luminescent as lumi\n",
        "\n",
        "path = os.path.join(\"runs\",\"splitter\")\n",
        "c = lumi.mimo(west=1, east=2, l=4.0, w=2.0, wwg=.5, taper=.05, )\n",
        "targets = {\n",
        "    \"tparams\": {1.55: {\"2,1\": 0.5}},\n",
        "}\n",
        "\n",
        "lumi.make_pic_inv_prob(\n",
        "    path,c, targets,\n",
        "     nres=15,  symmetries=[1],\n",
        "    lvoid=0.15, lsolid=.15,\n",
        "    iters=50, stoploss=.05,\n",
        "    approx_2D_mode=\"TE\",dtype=\"float16\")\n",
        "lumi.solve(path)"
      ]
    },
    {
      "cell_type": "code",
      "execution_count": null,
      "id": "45975dcc",
      "metadata": {
        "id": "45975dcc"
      },
      "outputs": [],
      "source": [
        "path = os.path.join(\"runs\",\"splitter\")\n",
        "sol = lumi.load_res(path)"
      ]
    },
    {
      "cell_type": "markdown",
      "id": "35580d22-1728-49a7-8151-4d7794f5db6f",
      "metadata": {
        "id": "35580d22-1728-49a7-8151-4d7794f5db6f"
      },
      "source": [
        "### 1x4 splitter MMI\n",
        "1x4 splitter at 1.55um with same phase on outputs. Because of symmetry, only need 0.0 phase difference between first 2 outputs."
      ]
    },
    {
      "cell_type": "code",
      "execution_count": null,
      "id": "7291eaf8-b99b-4fd4-8608-b9c7b178f293",
      "metadata": {
        "id": "7291eaf8-b99b-4fd4-8608-b9c7b178f293"
      },
      "outputs": [],
      "source": [
        "# finetune(iters=10,path)\n",
        "# sol = lumi.load_res(path)"
      ]
    },
    {
      "cell_type": "markdown",
      "id": "5cc42b06",
      "metadata": {
        "id": "5cc42b06"
      },
      "source": [
        "### mode converter\n",
        "We target \"o2@1,o1@0\", converting optical port 1 mode TE0 input to optical port 2 mode TE1 ouput at 1.55um. Mode converters are notoriously hard to design, but generative AI does it in a pinch!"
      ]
    },
    {
      "cell_type": "code",
      "execution_count": null,
      "id": "18a1bb68",
      "metadata": {
        "id": "18a1bb68"
      },
      "outputs": [],
      "source": [
        "# recommended RAM: >16G\n",
        "# import luminescent as lumi\n",
        "# import os\n",
        "\n",
        "# path = os.path.join(\"runs\",\"mode_converter\")\n",
        "# c = lumi.mimo(west=1, east=1, l=5.0, w=2.4,\n",
        "#                      wwg=.5, taper=.05)\n",
        "# targets = {\"tparams\": {1.55: {\"o2@1,o1@0\": 1.0}}}\n",
        "\n",
        "# lumi.make_pic_inv_prob(\n",
        "#     path,c, targets,\n",
        "#     approx_2D_mode=\"TE\",  nres=15,\n",
        "#     lvoid=0.15, lsolid=.15,\n",
        "#     iters=100, stoploss=.05, )\n",
        "# lumi.solve(path)\n",
        "# lumi.load_res(path)"
      ]
    },
    {
      "cell_type": "markdown",
      "id": "900bb6e7-904c-4d90-bc08-16ad2ca52eaf",
      "metadata": {
        "id": "900bb6e7-904c-4d90-bc08-16ad2ca52eaf"
      },
      "source": [
        "### symmetric crossing"
      ]
    },
    {
      "cell_type": "code",
      "execution_count": null,
      "id": "8a3336d1-c23d-4e11-b8ba-316d45e42d9d",
      "metadata": {
        "id": "8a3336d1-c23d-4e11-b8ba-316d45e42d9d"
      },
      "outputs": [],
      "source": [
        "# from pprint import pprint\n",
        "# import luminescent as lumi\n",
        "\n",
        "# path=os.path.join(\"runs\", \"crossing\")\n",
        "# c = lumi.mimo(west=1, east=1, south=1, north=1, l=4.0, w=4.0, wwg=.5)\n",
        "# targets = {\"tparams\":{1.55: {\"2,1\": 1.0}}}\n",
        "\n",
        "# lumi.make_pic_inv_prob(\n",
        "#     path,c, targets,\n",
        "#     lvoid=0.15,lsolid=0.15, nres=15, symmetries=[0,1],\n",
        "#    approx_2D_mode=\"TE\", iters=40)\n",
        "# lumi.solve(path)\n",
        "# sol = lumi.load_res(path)"
      ]
    },
    {
      "cell_type": "markdown",
      "id": "4a17ac28-2ecd-4880-9fae-fa5f1fbf3988",
      "metadata": {
        "id": "4a17ac28-2ecd-4880-9fae-fa5f1fbf3988"
      },
      "source": [
        "## GCells PDK for active  devices"
      ]
    },
    {
      "cell_type": "markdown",
      "id": "cbc85f5a-76c2-46c9-9841-c15e95293c16",
      "metadata": {
        "id": "cbc85f5a-76c2-46c9-9841-c15e95293c16"
      },
      "source": [
        "### Thermo-optic phase shifters\n",
        "Please request"
      ]
    },
    {
      "cell_type": "markdown",
      "id": "ff996afd-c99e-4a65-9e99-058b4b899c99",
      "metadata": {
        "id": "ff996afd-c99e-4a65-9e99-058b4b899c99"
      },
      "source": [
        "## GCells PDK for nonlinear devices\n",
        "Please request"
      ]
    },
    {
      "cell_type": "markdown",
      "id": "b9eb48e9-ff16-4717-ab47-58949e66b052",
      "metadata": {
        "id": "b9eb48e9-ff16-4717-ab47-58949e66b052"
      },
      "source": [
        "# Collaboration and research opportunities\n",
        "We can publish or keep it proprietary, depending on your needs.\n",
        "\n",
        "Algorithms  \n",
        "- Reduced basis geometry generators for length scale controlled topology optimization\n",
        "- Automatic differentiation and GPU compatible FDTD for inverse design in photonics and RF\n",
        "- Algorithms for reduced memory usage in time domain adjoint optimization\n",
        "- Neural surrogates for FDTD\n",
        "  \n",
        "Photonic applications  \n",
        "- Energy efficient and compact photonic phase shifters and resonators\n",
        "- Energy efficient and compact photonic modulators and MZIs\n",
        "- Inverse design of nonlinear photonic devices\n",
        "- Inverse design of ...\n"
      ]
    },
    {
      "cell_type": "markdown",
      "id": "2309f384",
      "metadata": {
        "id": "2309f384"
      },
      "source": [
        "# Links\n",
        "[GitHub](https://github.com/paulxshen/Luminescent.jl): Star us :) We respond to issues within a day  \n",
        "[LinkedIn](https://www.linkedin.com/company/luminescent-ai/about): Follow us for new features and bug fixes  \n",
        "[Company](luminescentai.com): Consulting, collaboration, publication opportunities available\n",
        "Email: pxshen@alumni.stanford.edu info@luminescentai.com  \n",
        "WhatsApp: 650-776-7724  \n",
        "WeChat: pxshen1230\n",
        "<!-- [Youtube](https://www.youtube.com/playlist?list=PLaK09N11V08geHeqyLJLDAW0tiDeJtnd4): Video tutorials   -->"
      ]
    }
  ],
  "metadata": {
    "accelerator": "GPU",
    "colab": {
      "gpuType": "T4",
      "include_colab_link": true,
      "provenance": [],
      "toc_visible": true
    },
    "kernelspec": {
      "display_name": "base",
      "language": "python",
      "name": "python3"
    },
    "language_info": {
      "codemirror_mode": {
        "name": "ipython",
        "version": 3
      },
      "file_extension": ".py",
      "mimetype": "text/x-python",
      "name": "python",
      "nbconvert_exporter": "python",
      "pygments_lexer": "ipython3",
      "version": "3.11.7"
    }
  },
  "nbformat": 4,
  "nbformat_minor": 5
}
