{
 "cells": [
  {
   "cell_type": "markdown",
   "metadata": {},
   "source": [
    "# Lumi FDTD with GPU acceleration & inverse design (experimental)\n",
    "## Intro\n",
    "Lumi FDTD by [Luminescent AI](https://luminescentai.com/) is a GPU and automatic differentiation (AD) compatible FDTD package for simulation and inverse design in semiconductor photonics. Create layout in gdsfactory. Then use the Lumi Python  plugin for calculating sparams or perform inverse design on Lumi's Julia backend. \n",
    "\n",
    "Experimental release . Expect bugs\n"
   ]
  },
  {
   "cell_type": "markdown",
   "metadata": {},
   "source": [
    "## Gallery \n",
    "![](assets/demux.png)\n",
    "Inverse Design of wavelength domain demultiplexer \n",
    "## Installation \n",
    "Install Python frontend . recommend Anaconda. Inside Anaconda Prompt do:\n",
    "- `pip install luminescent `\n",
    "\n",
    "Install Julia backend \n",
    "- Install latest stable  Julia from julialang.org\n",
    "- Open Julia REPL via `julia` in terminal. Then install packages via  \n",
    "- `]add UnPack, BSON,JSON,Dates, DataStructures,ImageTransformations, Meshes, CoordinateTransformations, GPUArraysCore, StatsBase, Zygote,Porcupine, Jello,ArrayPadding, AbbreviatedStackTraces,  Flux, FileIO,Images,CairoMakie,Functors,Lazy`\n",
    "\n",
    "Optional\n",
    "- If using GPU, install corresponding Julia GPU backend  \n",
    "- `]add CUDA` or `AMDGPU` or `Metal`"
   ]
  },
  {
   "cell_type": "markdown",
   "metadata": {},
   "source": [
    "## S-parameters calculation \n",
    "We support multi-wavelength, multi-mode, GPU-accelerated (optional ) sparams calculation . One can choose to do only a subset of sparams in case of symmetric devices by specifying `keys`, which can either be in short form eg \"2,1\" or long form eg `o2@0,o1@0` (`port@mode`). if `keys` omitted, all sparams will be calculated \n",
    "\n",
    " Simulation or optimization results are saved to a timestamped folder inside `lumi_runs` in your pwd. Can load them later via `sol = load_solution(path_to_run)` (loads latest run if path omitted )\n",
    "\n",
    "We demo on a tight waveguide bend"
   ]
  },
  {
   "cell_type": "code",
   "execution_count": null,
   "metadata": {},
   "outputs": [],
   "source": [
    "import luminescent as lumi\n",
    "from luminescent import LAYER, XMARGIN\n",
    "import gdsfactory as gf\n",
    "import pprint as pp\n",
    "\n",
    "c = gf.components.bend_euler(radius=.75, allow_min_radius_violation=True)\n",
    "c = lumi.add_bbox(c, layers=[LAYER.WGCLAD, LAYER.BOX], nonport_margin=XMARGIN)\n",
    "c.show()\n",
    "\n",
    "sol = lumi.write_sparams(c, wavelengths=[1.55], keys=[\"2,1\"],\n",
    "                         dx=0.05, approx_2D=False, gpu=None,)\n",
    "# sol = lumi.load_solution()\n",
    "pp.pprint(sol)\n"
   ]
  },
  {
   "cell_type": "code",
   "execution_count": null,
   "metadata": {},
   "outputs": [],
   "source": [
    "{'sparams': {'1.55': {'o1@0,o1@0': (0.11776448-0.04094091j),\n",
    "                      'o2@0,o1@0': (0.76620877-0.0066863224j)}},\n",
    " 'tparams': {'1.55': {'o1@0,o1@0': 0.015544631, 'o2@0,o1@0': 0.5871206}}}"
   ]
  },
  {
   "cell_type": "markdown",
   "metadata": {},
   "source": [
    "![](assets/bend.png)"
   ]
  },
  {
   "cell_type": "markdown",
   "metadata": {},
   "source": [
    "You can see significant radiative loss from this very small radius bend"
   ]
  },
  {
   "cell_type": "markdown",
   "metadata": {},
   "source": [
    "## Inverse design with GCells\n",
    "GCells (generative cells) are a natural evolution of PCells (parametric cells) in semiconductor design . Given a set of inverse design objectives, a GCell will generate optimal geometry using adjoint optimization while ensuring manufacturability thru a minimal feature length `lmin`\n",
    "\n",
    "We demo on inverse design of a wavelength domain demultiplexer splitting mixture of 850nm & 1550nm signals. We first load the `gcells.mimo`. It is just a gdsfactory component with static waveguide ports, a simple slab as pre-optimization geometry, and overlying rectangular design regions marked with the DESIGN layer.\n",
    "\n",
    "In particular , MIMO GCell has m inputs on left and n outputs on right. We specify T-params target dictating all 1550nm signal to go from o1 to o2, and all 850nm signal to o3. By changing target , one can also design MMI splitters, mode converters , phase , filters in addition to wavelength domain multiplexers\n",
    "\n",
    "  Adjoint optimization then optimizes geometry inside design regions with pre geometry as starting point . With `approx_2D=True`, we optimize in 2.5D which is significantly faster . However , for accuracy , the result must be finetuned in 3D, a feature that can be requested from Luminescent AI "
   ]
  },
  {
   "cell_type": "code",
   "execution_count": null,
   "metadata": {},
   "outputs": [],
   "source": [
    "from pprint import pprint\n",
    "import gdsfactory as gf\n",
    "import luminescent as lumi\n",
    "\n",
    "name = \"demux\"\n",
    "c = lumi.gcells.mimo(l=4.0, w=4.0, m=1, n=2, wwg=.5)\n",
    "targets = {\n",
    "    1.55: {\n",
    "        \"2,1\": 1.0\n",
    "    },\n",
    "    .85: {\n",
    "        \"3,1\": 1.0\n",
    "    }}\n",
    "c.show()\n",
    "\n",
    "prob = lumi.inverse_design_problem(\n",
    "    c, tparam_targets=targets,\n",
    "    lmin=0.2, dx=0.05, maxiters=40, eta=10., approx_2D=True)\n",
    "sol = lumi.solve(prob)\n",
    "\n",
    "print(\"post optim tparams:\")\n",
    "pprint(sol[\"after\"][\"tparams\"])\n",
    "\n",
    "c = sol[\"after\"][\"component\"]\n",
    "c.write_gds(f\"optimal_{name}.gds\", \"\")\n",
    "c.plot()\n"
   ]
  },
  {
   "cell_type": "code",
   "execution_count": null,
   "metadata": {},
   "outputs": [],
   "source": [
    "post optim tparams:\n",
    "{'0.85': {'o1@0,o1@0': 0.018236168,\n",
    "          'o2@0,o1@0': 0.015066246,\n",
    "          'o3@0,o1@0': 0.90159845},\n",
    " '1.55': {'o1@0,o1@0': 0.066036664,\n",
    "          'o2@0,o1@0': 0.97269523,\n",
    "          'o3@0,o1@0': 0.04481672}}"
   ]
  },
  {
   "cell_type": "markdown",
   "metadata": {},
   "source": [
    "![](assets/demux.png)\n",
    "\n",
    "AFter 40 iters loss continues decreasing and is within 10% of target . This is good spot to switch to 3D for finetuning and finishing the design "
   ]
  },
  {
   "cell_type": "markdown",
   "metadata": {},
   "source": [
    "## Geometry & materials \n",
    "Geometry is purely determined thru gdsfactory via component layout and layer stack. A gdsfactory component generates a 3D mesh which is clipped vertically some depths above and below the core layer . The material library maps the material tag of a layer in the layer stack to its property eg `MATERIAL_LIBRARY[\"Si\"][\"epsilon\"]`\n",
    "\n",
    "LAYER_STACK, LAYER, MATERIAL_LIBRARY corresponding to a SOI node are provided in `luminescent.generic_tech` similar to gdsfactory's. They can be customized and passed as `layer_stack`, `material_library` to `write_sparams, inverse_design_problem`"
   ]
  },
  {
   "cell_type": "markdown",
   "metadata": {},
   "source": [
    "## GPU acceleration : not just CUDA\n",
    "Use GPU by setting `gpu=\"CUDA\"` (or AMDGPU, Metal). By default we use Nvidia CUDA but also support Intel OneAPI (pending), AMD ROCM & Apple Metal. However only CUDA has been extensively tested. Please contact us for support on non-CUDA alternative "
   ]
  },
  {
   "cell_type": "markdown",
   "metadata": {},
   "source": [
    "## Advanced features \n",
    "Following can be requested from info@luminescentai.com (mention your position and organization ):\n",
    "- 3D inverse design \n",
    "- inverse design on GPU\n",
    "- fp16 (vs fp32 by default )"
   ]
  },
  {
   "cell_type": "markdown",
   "metadata": {},
   "source": [
    "## Community support \n",
    "File issues & discussions on [GitHub](https://github.com/paulxshen/Luminescent.jl). Please star us if you found us helpful :) Private messages to info@luminescentai.com or pxshen@alumni.stanford.edu . Stay on top of new features and bug fixes by signing up for our [newsletter](https://docs.google.com/forms/d/e/1FAIpQLSccBKPX13H1wlXjJutSuTtc2su6VvIhNYKBj0k3tij_oQJzDQ/viewform?pli=1) "
   ]
  }
 ],
 "metadata": {
  "kernelspec": {
   "display_name": "base",
   "language": "python",
   "name": "python3"
  },
  "language_info": {
   "file_extension": ".jl",
   "mimetype": "application/julia",
   "name": "python",
   "version": "3.11.7"
  }
 },
 "nbformat": 4,
 "nbformat_minor": 2
}
