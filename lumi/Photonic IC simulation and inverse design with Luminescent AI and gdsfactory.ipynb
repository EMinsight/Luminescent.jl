{
 "cells": [
  {
   "cell_type": "markdown",
   "id": "b21851d9-82d7-4d88-b6f8-ba28c78d731b",
   "metadata": {},
   "source": [
    "# Intro\n",
    "\n",
    "[Luminescent AI](https://luminescentai.com/) brings generative AI to photonics and RF. It empowers engineers to create complex optimal components just in a few lines of code! Specifically we created a GPU accelerated and automatic differentiation (AD) compatible FDTD package for simulation and inverse design of photonic integrated circuits (PIC), RF microstrip circuits, antennas and metasurfaces. Experimental release 🥼. Expect bugs 🐛🐞\n",
    "\n",
    "[Follow us](https://www.linkedin.com/company/luminescent-ai/about) for updates and bug fixes!"
   ]
  },
  {
   "cell_type": "markdown",
   "id": "4da41568-e209-4ebc-88b8-98ca7bdb12e0",
   "metadata": {},
   "source": [
    "# Links\n",
    "[GitHub](https://github.com/paulxshen/Luminescent.jl): Star us :) We respond to issues within a day  \n",
    "[LinkedIn](https://www.linkedin.com/company/luminescent-ai/about): Follow us for new features and bug fixes  \n",
    "[Youtube](https://www.youtube.com/playlist?list=PLaK09N11V08geHeqyLJLDAW0tiDeJtnd4): Video tutorials  \n",
    "[Company](luminescentai.com): Consulting, collaboration, funding, publication opportunities available  \n",
    "[White Paper](https://docs.google.com/document/d/1b1kfDdRHw95AsR8zhrZYsHfCHLnULIO7uOYu8PxKQTM/edit?usp=sharing): Generative AI Cells for Semiconductor Photonics Design\n",
    "Email: pxshen@alumni.stanford.edu info@luminescentai.com  \n",
    "WhatsApp: 650-776-7724  \n",
    "WeChat: pxshen1230 懂中文"
   ]
  },
  {
   "cell_type": "markdown",
   "id": "c660d489-c9ed-4e6b-9a36-ae3acf0e3379",
   "metadata": {},
   "source": [
    "# Installation\n",
    "## Windows\n",
    "## Linux\n",
    "Please request"
   ]
  },
  {
   "cell_type": "markdown",
   "id": "f20e8885-2c83-44be-a10e-46c9900f9d3d",
   "metadata": {},
   "source": [
    "# Generative AI inverse design\n",
    "We introduce GCells (generative cells), a natural evolution of PCells (parametric cells) in semiconductor design . Given a set of inverse design objectives, a GCell will generate optimal geometry using adjoint optimization while ensuring manufacturability by enforcing minimum feature lengths.\n",
    "\n",
    "In examples below, `gcells.mimo` (multi in multi out) is just a gdsfactory component with configurable waveguide ports, simple slab as pre-optimization geometry, and overlying rectangular design regions. Dimensions `l` along x and `w` along y. Ports are numbered incrementally: west (SW->NW) -> east (SE->NE) -> south (SW->SE) -> north (NW->NE). By default, they're spaced equally on a side. Example: `west=1, east=2` places port 1 on west, ports 2 & 3 on east. But can also individually specify their locations and widths. Example : `west=[1.0, 2.5], wwg_west=[0.5, 0.4]`.\n",
    "\n",
    "`lmin` is minimum length scale . No fill or void features smaller than `lmin`.\n",
    "\n",
    "`approx_2D=True` optimizes in 2.5D which is significantly faster than 3D. Examples done at low resolution and lax convergence for speed. For accuracy, the result must be finetuned in 3D at finer resolution, a feature that can be requested from Luminescent AI .\n"
   ]
  },
  {
   "cell_type": "markdown",
   "id": "25ef5a6b-0ba2-4356-be57-c6e6b685bc84",
   "metadata": {},
   "source": [
    "## Generative cells PDK for passive devices \n"
   ]
  },
  {
   "cell_type": "markdown",
   "id": "190efaf0-1cbe-479e-b47c-c0b1bf4fecb0",
   "metadata": {},
   "source": [
    "### 1x2 splitter MMI (tutorial)\n",
    "1.55um wavelength 1x2 splitter. Symmetric about y so only need to specify T21=1.0. Data saved to `name` folder inside working directory. We start 30 iteratiions of adjoint optimization."
   ]
  },
  {
   "cell_type": "code",
   "execution_count": null,
   "id": "b95e430a-51fd-4019-8f5f-9d2b2e1a2548",
   "metadata": {},
   "outputs": [],
   "source": [
    "from pprint import pprint\n",
    "import luminescent as lumi\n",
    "\n",
    "c = lumi.gcells.mimo(west=1, east=2, l=4.0, w=2.0, wwg=.5, name=\"1x2_splitter\")\n",
    "targets = {\"tparams\":{1.55: {\"2,1\": 0.5}}\n",
    "\n",
    "prob = lumi.gcell_problem(\n",
    "    c, targets, \n",
    "    symmetries=[1], lmin=0.1, dx=0.05, \n",
    "    approx_2D=True, iters=30, save_memory=True) # set to True if running out of RAM\n",
    "sol = lumi.solve(prob)\n",
    "pprint(sol[\"tparams\"])"
   ]
  },
  {
   "cell_type": "markdown",
   "id": "b1d94284-9892-406a-962a-63b9bda51883",
   "metadata": {},
   "source": [
    "Can optimize more. `finetune` acts on latest modified design run folder if `name` not specified. Same for `show_solution` and `load_solution`"
   ]
  },
  {
   "cell_type": "code",
   "execution_count": null,
   "id": "f585b2c3-8c7d-42b6-b83b-bfa57dac8433",
   "metadata": {},
   "outputs": [],
   "source": [
    "finetune(iters=10)\n",
    "show_solution()"
   ]
  },
  {
   "cell_type": "markdown",
   "id": "8b4fbada-59e8-4dc9-8150-d241436a17ad",
   "metadata": {},
   "source": [
    "Can get optimized gdsfactory component, also saved as `optimized_component.gds` in run folder. Can also find `design_region_1.gds` and `design_region_1.png` for just the optimized design regions."
   ]
  },
  {
   "cell_type": "code",
   "execution_count": null,
   "id": "7af8f2bd-bc33-481c-b34e-b4310f5379c2",
   "metadata": {},
   "outputs": [],
   "source": [
    "sol=load_solution()\n",
    "c_opt=sol[\"optimized_component\""
   ]
  },
  {
   "cell_type": "markdown",
   "id": "35580d22-1728-49a7-8151-4d7794f5db6f",
   "metadata": {},
   "source": [
    "### 1x4 splitter MMI\n",
    "Need same phase on outputs. Because of symmetry, only need 0.0 phase difference between first 2 outputs."
   ]
  },
  {
   "cell_type": "code",
   "execution_count": null,
   "id": "0cb5d4aa-6798-4685-8c8e-27606542d3c8",
   "metadata": {},
   "outputs": [],
   "source": [
    "from pprint import pprint\n",
    "import luminescent as lumi\n",
    "\n",
    "c = lumi.gcells.mimo(west=1, east=4, l=4.0, w=4.0, wwg=.5, name=\"1x4_splitter\")\n",
    "targets = {\n",
    "    \"tparams\":{1.55: {\"2,1\": 0.25, \"3,1\":0.25}},\n",
    "    \"phasediff\":{1.55: {\"2,3\": 0.0}},\n",
    "    }\n",
    "\n",
    "prob = lumi.gcell_problem(\n",
    "    c, targets, \n",
    "    symmetries=[1], lmin=0.1, dx=0.05, \n",
    "    approx_2D=True, iters=40, save_memory=True) # set to True if running out of RAM\n",
    "sol = lumi.solve(prob)\n",
    "\n",
    "lumi.show_solution()"
   ]
  },
  {
   "cell_type": "markdown",
   "id": "70ac451a-2632-4d48-8f22-41244e9a97f1",
   "metadata": {},
   "source": [
    "### wavelength domain demultiplexer"
   ]
  },
  {
   "cell_type": "code",
   "execution_count": null,
   "id": "63e7373d-190c-49a4-acd0-0a121b1daa87",
   "metadata": {},
   "outputs": [],
   "source": [
    "from pprint import pprint\n",
    "import luminescent as lumi\n",
    "\n",
    "c = lumi.gcells.mimo(west=1, east=3, l=6.0, w=6.0, wwg=.5, name=\"demux\")\n",
    "targets = {\"tparams\":{\n",
    "    1.55: {\"2,1\": 1.0},\n",
    "    1.31: {\"3,1\": 1.0},\n",
    "    1.10: {\"4,1\": 1.0},\n",
    "}}\n",
    "\n",
    "prob = lumi.gcell_problem(\n",
    "    c, targets,\n",
    "    lmin=0.1, dx=0.05, \n",
    "    approx_2D=True, iters=60, save_memory=True)\n",
    "sol = lumi.solve(prob)\n",
    "\n",
    "lumi.show_solution()"
   ]
  },
  {
   "cell_type": "markdown",
   "id": "9e9aee87-a267-4ef1-bd3b-adb994fbb6c4",
   "metadata": {},
   "source": [
    "### mode converter\n",
    "\"o2@1,o1@0\" means converting optical port 1 mode 0 to optical port 2 mode 1."
   ]
  },
  {
   "cell_type": "code",
   "execution_count": null,
   "id": "4b9a26e6-131d-4eaf-9d52-c7cac92c22cf",
   "metadata": {},
   "outputs": [],
   "source": [
    "from pprint import pprint\n",
    "import luminescent as lumi\n",
    "\n",
    "c = lumi.gcells.mimo(west=1, east=1, l=3.0, w=3.0, wwg=.5, name=\"mode_converter\")\n",
    "targets = {\"tparams\":{1.55: {\"o2@1,o1@0\": 1.0}}}\n",
    "\n",
    "prob = lumi.gcell_problem(\n",
    "    c, targets,\n",
    "    lmin=0.1, dx=0.05, \n",
    "    approx_2D=True, iters=40, save_memory=True)\n",
    "sol = lumi.solve(prob)\n",
    "\n",
    "lumi.show_solution()"
   ]
  },
  {
   "cell_type": "markdown",
   "id": "900bb6e7-904c-4d90-bc08-16ad2ca52eaf",
   "metadata": {},
   "source": [
    "### symmetric crossing "
   ]
  },
  {
   "cell_type": "code",
   "execution_count": null,
   "id": "8a3336d1-c23d-4e11-b8ba-316d45e42d9d",
   "metadata": {},
   "outputs": [],
   "source": [
    "from pprint import pprint\n",
    "import luminescent as lumi\n",
    "\n",
    "c = lumi.gcells.mimo(west=1, east=1, south=1, north=1, l=4.0, w=4.0, wwg=.5, name=\"crossing\")\n",
    "targets = {\"tparams\":{1.55: {\"2,1\": 1.0}}}\n",
    "\n",
    "prob = lumi.gcell_problem(\n",
    "    c, targets,\n",
    "    lmin=0.1, dx=0.05, symmetries=[0,\"diag\"],\n",
    "    approx_2D=True, iters=40, save_memory=True)\n",
    "sol = lumi.solve(prob)\n",
    "\n",
    "lumi.show_solution()"
   ]
  }
 ],
 "metadata": {
  "kernelspec": {
   "display_name": "Python 3 (ipykernel)",
   "language": "python",
   "name": "python3"
  },
  "language_info": {
   "codemirror_mode": {
    "name": "ipython",
    "version": 3
   },
   "file_extension": ".py",
   "mimetype": "text/x-python",
   "name": "python",
   "nbconvert_exporter": "python",
   "pygments_lexer": "ipython3",
   "version": "3.11.7"
  }
 },
 "nbformat": 4,
 "nbformat_minor": 5
}
