{
 "cells": [
  {
   "cell_type": "markdown",
   "metadata": {},
   "source": [
    "# Lumi FDTD with GPU acceleration & inverse design \n",
    "## Intro\n",
    "Lumi FDTD by [Luminescent AI](https://luminescentai.com/) is a GPU and automatic differentiation (AD) compatible FDTD package for simulation and inverse design in semiconductor photonics. Create layout in gdsfactory. Then use the Lumi Python  plugin for calculating sparams or perform inverse design on Lumi's Julia backend.\n",
    "## Installation \n",
    "Install Python frontend \n",
    "- `pip install gplugins `\n",
    "Install Julia backend \n",
    "- Install Julia language \n",
    "- Open Julia REPL via `julia` in terminal. Then install packages via  \n",
    "`]add Luminescent, LuminescentVisualizations, UnPack, BSON, DataStructures, StatsBase, Zygote, Jello,ArrayPadding, AbbreviatedStackTraces, CUDA, Flux, Rsvg, Cairo, FileIO,JSON,Images,GLMakie,Functors`"
   ]
  },
  {
   "cell_type": "markdown",
   "metadata": {},
   "source": [
    "## S-parameters calculation \n",
    "We support multi-wavelength, multi-mode, GPU-accelerated (optional ) sparams calculation . One can choose to do only a subset of sparams in case of symmetric devices by specifying `keys`, which can either be in short form eg \"2,1\" or long form eg `o2@0,o1@0` (`port@mode`)\n",
    "\n",
    "We demo on a coupler"
   ]
  },
  {
   "cell_type": "code",
   "execution_count": null,
   "metadata": {},
   "outputs": [],
   "source": [
    "a=1\n",
    "import gdsfactory as gf"
   ]
  },
  {
   "cell_type": "markdown",
   "metadata": {},
   "source": [
    "## Inverse design with gcells\n",
    "GCells (generative cells) are a natural evolution of PCells (parametric cells) in semiconductor design . Given a set of inverse design objectives, a GCell will generate optimal geometry using adjoint optimization \n",
    "\n",
    "We demo on inverse design of a compact 90deg photonic waveguide bend. We first load the `gcells.bend`. It is just a gdsfactory component with static waveguide ports, a simple waveguide  arc as pre-optimization geometry, and overlying rectangular design regions marked with the DESIGN layer. Adjoint optimization then optimizes geometry inside design regions with pre geometry as starting point . "
   ]
  }
 ],
 "metadata": {
  "language_info": {
   "name": "python"
  }
 },
 "nbformat": 4,
 "nbformat_minor": 2
}
